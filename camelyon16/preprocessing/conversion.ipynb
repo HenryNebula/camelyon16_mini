{
 "cells": [
  {
   "cell_type": "code",
   "execution_count": 1,
   "metadata": {},
   "outputs": [],
   "source": [
    "import os, sys"
   ]
  },
  {
   "cell_type": "code",
   "execution_count": 2,
   "metadata": {},
   "outputs": [],
   "source": [
    "sys.path.append(\"/opt/ASAP/bin\")"
   ]
  },
  {
   "cell_type": "code",
   "execution_count": 3,
   "metadata": {},
   "outputs": [],
   "source": [
    "import multiresolutionimageinterface as mir"
   ]
  },
  {
   "cell_type": "code",
   "execution_count": 4,
   "metadata": {},
   "outputs": [
    {
     "name": "stdout",
     "output_type": "stream",
     "text": [
      "/home/henryhuang/Desktop/Course/AppliedDL/project/camelyon16_mini\n"
     ]
    }
   ],
   "source": [
    "%cd ../"
   ]
  },
  {
   "cell_type": "code",
   "execution_count": 5,
   "metadata": {},
   "outputs": [],
   "source": [
    "def convert_annotation_to_mask(img_path, xml_path, output_path, camelyon17_type_mask=False):\n",
    "    reader = mir.MultiResolutionImageReader()\n",
    "    mr_image = reader.open(img_path)\n",
    "    annotation_list = mir.AnnotationList()\n",
    "    xml_repository = mir.XmlRepository(annotation_list)\n",
    "    xml_repository.setSource(xml_path)\n",
    "    xml_repository.load()\n",
    "    annotation_mask = mir.AnnotationToMask()\n",
    "    label_map = {'metastases': 1, 'normal': 2} if camelyon17_type_mask else {'_0': 1, '_1': 1, '_2': 0}\n",
    "    conversion_order = ['metastases', 'normal'] if camelyon17_type_mask else  ['_0', '_1', '_2']\n",
    "    annotation_mask.convert(annotation_list, output_path, \n",
    "                            mr_image.getDimensions(), mr_image.getSpacing(), \n",
    "                            label_map, conversion_order)"
   ]
  },
  {
   "cell_type": "code",
   "execution_count": 6,
   "metadata": {},
   "outputs": [],
   "source": [
    "img_path = \"./data/validation/samples/test_016.tif\"\n",
    "xml_path = \"./data/validation/samples/test_016.xml\"\n",
    "output_path = \"./data/validation/samples/test_016_mask.tif\""
   ]
  },
  {
   "cell_type": "code",
   "execution_count": 7,
   "metadata": {},
   "outputs": [],
   "source": [
    "convert_annotation_to_mask(img_path, xml_path, output_path, camelyon17_type_mask=False)"
   ]
  },
  {
   "cell_type": "code",
   "execution_count": 23,
   "metadata": {},
   "outputs": [],
   "source": [
    "from pathlib import Path"
   ]
  },
  {
   "cell_type": "code",
   "execution_count": 24,
   "metadata": {},
   "outputs": [],
   "source": [
    "data_dir = \"data/validation/samples/\""
   ]
  },
  {
   "cell_type": "code",
   "execution_count": 89,
   "metadata": {},
   "outputs": [],
   "source": [
    "def convert_to_mask_under_dir(data_dir):\n",
    "    data_dir = Path(data_dir)\n",
    "    xml_paths = sorted(data_dir.glob(\"*.xml\"))\n",
    "    slide_names = list(map(lambda x: x.name.replace(\".xml\", \"\"), xml_paths))\n",
    "    slide_paths = list(map(lambda x: data_dir / f\"{x}.tif\", slide_names))\n",
    "    mask_paths = list(map(lambda x: data_dir / f\"{x}_mask.tif\", slide_names))\n",
    "    \n",
    "    for slide_path, xml_path, mask_path in zip(slide_paths, xml_paths, mask_paths):\n",
    "        if Path(mask_path).exist():\n",
    "            continue\n",
    "        print(f\"Saving annotation {xml_path} in mask {mask_path} ... \")\n",
    "        convert_annotation_to_mask(str(slide_path), str(xml_path), str(mask_path))"
   ]
  },
  {
   "cell_type": "code",
   "execution_count": 90,
   "metadata": {},
   "outputs": [
    {
     "name": "stdout",
     "output_type": "stream",
     "text": [
      "Saving annotation data/validation/samples/test_001.xml in mask data/validation/samples/test_001_mask.tif ... \n",
      "Saving annotation data/validation/samples/test_002.xml in mask data/validation/samples/test_002_mask.tif ... \n",
      "Saving annotation data/validation/samples/test_004.xml in mask data/validation/samples/test_004_mask.tif ... \n",
      "Saving annotation data/validation/samples/test_010.xml in mask data/validation/samples/test_010_mask.tif ... \n",
      "Saving annotation data/validation/samples/test_011.xml in mask data/validation/samples/test_011_mask.tif ... \n"
     ]
    }
   ],
   "source": [
    "convert_to_mask_under_dir(data_dir)"
   ]
  }
 ],
 "metadata": {
  "kernelspec": {
   "display_name": "python3.6",
   "language": "python",
   "name": "python3.6"
  },
  "language_info": {
   "codemirror_mode": {
    "name": "ipython",
    "version": 3
   },
   "file_extension": ".py",
   "mimetype": "text/x-python",
   "name": "python",
   "nbconvert_exporter": "python",
   "pygments_lexer": "ipython3",
   "version": "3.6.9"
  }
 },
 "nbformat": 4,
 "nbformat_minor": 4
}
